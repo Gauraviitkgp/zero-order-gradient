{
 "cells": [
  {
   "cell_type": "code",
   "execution_count": 91,
   "metadata": {},
   "outputs": [],
   "source": [
    "import numpy as np\n",
    "import matplotlib.pyplot as plt\n",
    "from numpy import linalg as LA\n",
    "from numpy.linalg import inv"
   ]
  },
  {
   "cell_type": "code",
   "execution_count": 92,
   "metadata": {},
   "outputs": [],
   "source": [
    "class model:\n",
    "    def __init__(self,A,B,Q,R):\n",
    "        #x_t+1=A*x_t+B*u_t\n",
    "        self.A = A \n",
    "        self.B = B\n",
    "        self.Q = Q\n",
    "        self.R = R\n",
    "    \n",
    "    def costpt(self,x,u):\n",
    "        c = np.matmul(np.matmul(np.transpose(x),self.Q),x)+np.matmul(np.matmul(np.transpose(u),self.R),u)\n",
    "        return c\n",
    "    \n",
    "    def step(self,x,u):\n",
    "        xnew = np.matmul(A,x)+np.matmul(B,u)\n",
    "        return xnew"
   ]
  },
  {
   "cell_type": "code",
   "execution_count": 93,
   "metadata": {},
   "outputs": [],
   "source": [
    "class fitmodel:\n",
    "    def __init__(self, d, k,model1):\n",
    "        self.d     = d\n",
    "        self.k     = k\n",
    "        self.K     = [np.zeros((k,d))]\n",
    "        self.model1= model1\n",
    "        \n",
    "    def declarations_for_update(self):\n",
    "        self.cI       = np.asmatrix(np.zeros((1,self.m))) #Cost at trajectory i\n",
    "        self.stcorrI  = (np.zeros((self.d,self.d, self.m))) #State correlation matrix at trajectory i\n",
    "        self.KhatI    = []   #Set of Khats\n",
    "        self.UI       = []   #Set of Uniform Random U's\n",
    "        self.xT       = np.asmatrix(np.zeros([self.d,self.l+1]))  #State varying with T\n",
    "    \n",
    "    def getrandomX(self):\n",
    "        A=np.asmatrix(np.random.uniform(-0.05,0.05,self.d))\n",
    "        return np.transpose(A)\n",
    "    \n",
    "    def getrandomU(self):\n",
    "        U=np.random.normal(0,1,self.d*self.k)\n",
    "        U.resize(self.k,self.d)\n",
    "        U=(self.r/LA.norm(U,'fro'))*U\n",
    "        U=np.asmatrix(U)\n",
    "        return U\n",
    "    \n",
    "    def simulatetrajectory(self,i,n,t):\n",
    "        self.u              = -np.asmatrix(np.matmul(self.KhatI[i], self.xT[:,t]))\n",
    "        self.stcorrI[:,:,i] = self.stcorrI[:,:,i] + (np.matmul(self.xT[:,t],np.transpose(self.xT[:,t])))\n",
    "        self.cI[0,i]        = self.cI[0,i]+model1.costpt(self.xT[:,t],self.u)\n",
    "        self.xT[:,t+1]      = model1.step(self.xT[:,t],self.u)\n",
    "    \n",
    "    def getgradparams(self,i,n):\n",
    "        self.xT[:,0] = self.getrandomX()\n",
    "        (self.UI).append(self.getrandomU())\n",
    "        self.KhatI.append(self.K[n]+self.UI[i])\n",
    "        for t in range(l):\n",
    "            self.simulatetrajectory(i,n,t)\n",
    "            \n",
    "    def calcgrads(self):\n",
    "        grad = np.asmatrix(np.zeros([self.k,self.d]))\n",
    "        for i in range(self.m):\n",
    "            grad = grad + self.cI[0,i]*self.UI[i]\n",
    "        #print(\"Grad1:\",grad)\n",
    "        ek = np.sum(self.stcorrI,axis=2)/self.m\n",
    "        grad = (self.d)/(self.m*pow(self.r,2))*np.matmul(grad,inv(ek))\n",
    "        #print(\"Grad2:\",grad)\n",
    "        return grad\n",
    "     \n",
    "    def train(self,ite,m,l,r,lr):\n",
    "        self.m     = m\n",
    "        self.l     = l\n",
    "        self.r     = r\n",
    "        self.ite   = ite\n",
    "        self.lr    = lr\n",
    "        self.costs = np.zeros(ite)\n",
    "        for n in range(ite):\n",
    "            self.declarations_for_update()\n",
    "            for i in range(m):\n",
    "                self.getgradparams(i,n)\n",
    "            \n",
    "            self.costs[n] = np.mean(self.cI)\n",
    "            self.grad     = self.calcgrads()\n",
    "            #print(\"Gradients:\", self.grad)\n",
    "            (self.K).append(self.K[n]-lr*self.grad)"
   ]
  },
  {
   "cell_type": "code",
   "execution_count": 94,
   "metadata": {},
   "outputs": [],
   "source": [
    "#Define Dimensions\n",
    "d=4       #Dimension of x\n",
    "k=3       #Dimension of u"
   ]
  },
  {
   "cell_type": "code",
   "execution_count": 95,
   "metadata": {},
   "outputs": [],
   "source": [
    "#define Model\n",
    "A=np.asmatrix(np.identity(d)) \n",
    "B=np.identity(k) \n",
    "B.resize(d,k)\n",
    "B=np.asmatrix(B)\n",
    "Q=np.asmatrix(np.identity(d))\n",
    "R=np.asmatrix(np.identity(k))\n",
    "\n",
    "model1 = model(A,B,Q,R)"
   ]
  },
  {
   "cell_type": "code",
   "execution_count": 96,
   "metadata": {},
   "outputs": [],
   "source": [
    "m=100     #Number of Trajectories\n",
    "l=10      #Roll Out Length\n",
    "r=0.05    #Smoothing Parameter\n",
    "ite=1000  #Iterations or number of updates of K\n",
    "lr=pow(10,-5)  #Learning Rate\n"
   ]
  },
  {
   "cell_type": "code",
   "execution_count": 97,
   "metadata": {},
   "outputs": [],
   "source": [
    "runsim = fitmodel(d,k,model1)\n",
    "runsim.train(ite,m,l,r,lr)"
   ]
  },
  {
   "cell_type": "code",
   "execution_count": 98,
   "metadata": {},
   "outputs": [
    {
     "data": {
      "image/png": "[encoded data removed]",
      "text/plain": [
       "<Figure size 432x288 with 1 Axes>"
      ]
     },
     "metadata": {
      "needs_background": "light"
     },
     "output_type": "display_data"
    }
   ],
   "source": [
    "plt.title('Costs v/s Iterations')  # Add a title so we know which it is\n",
    "plt.plot(runsim.costs)\n",
    "plt.xlabel('iterations')\n",
    "plt.ylabel('costs')\n",
    "plt.show()"
   ]
  },
  {
   "cell_type": "code",
   "execution_count": null,
   "metadata": {},
   "outputs": [],
   "source": []
  },
  {
   "cell_type": "code",
   "execution_count": null,
   "metadata": {},
   "outputs": [],
   "source": []
  }
 ],
 "metadata": {
  "kernelspec": {
   "display_name": "Python 3",
   "language": "python",
   "name": "python3"
  },
  "language_info": {
   "codemirror_mode": {
    "name": "ipython",
    "version": 3
   },
   "file_extension": ".py",
   "mimetype": "text/x-python",
   "name": "python",
   "nbconvert_exporter": "python",
   "pygments_lexer": "ipython3",
   "version": "3.7.0"
  }
 },
 "nbformat": 4,
 "nbformat_minor": 2
}
